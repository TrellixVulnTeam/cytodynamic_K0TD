{
 "metadata": {
  "language_info": {
   "codemirror_mode": {
    "name": "ipython",
    "version": 3
   },
   "file_extension": ".py",
   "mimetype": "text/x-python",
   "name": "python",
   "nbconvert_exporter": "python",
   "pygments_lexer": "ipython3",
   "version": "3.8.5-final"
  },
  "orig_nbformat": 2,
  "kernelspec": {
   "name": "python3",
   "display_name": "Python 3"
  }
 },
 "nbformat": 4,
 "nbformat_minor": 2,
 "cells": [
  {
   "cell_type": "code",
   "execution_count": 1,
   "metadata": {},
   "outputs": [],
   "source": [
    "%load_ext autoreload\n"
   ]
  },
  {
   "cell_type": "code",
   "execution_count": 2,
   "metadata": {},
   "outputs": [],
   "source": [
    "# Add path to main folder\n",
    "import sys\n",
    "sys.path.append('../')\n",
    "%autoreload 2\n",
    "%matplotlib widget\n",
    "import matplotlib.pyplot as plt\n",
    "import numpy as np\n",
    "from cytoImage import image\n",
    "import cv2\n",
    "import pandas as pd\n",
    "import itertools as iter\n",
    "import copy\n",
    "\n",
    "\n"
   ]
  },
  {
   "cell_type": "code",
   "execution_count": 5,
   "metadata": {},
   "outputs": [
    {
     "output_type": "display_data",
     "data": {
      "text/plain": "Canvas(toolbar=Toolbar(toolitems=[('Home', 'Reset original view', 'home', 'home'), ('Back', 'Back to previous …",
      "application/vnd.jupyter.widget-view+json": {
       "version_major": 2,
       "version_minor": 0,
       "model_id": "b1b57ab1040646418aa00a6d870774d9"
      }
     },
     "metadata": {}
    }
   ],
   "source": [
    "# Import image\n",
    "sys.path.append('../sourceImages')\n",
    "cell_img = image.Image.from_file('../sourceImages/RK1.jpg', 'Original Image')\n",
    "cell_img.im_show()\n"
   ]
  },
  {
   "cell_type": "code",
   "execution_count": 6,
   "metadata": {},
   "outputs": [
    {
     "output_type": "display_data",
     "data": {
      "text/plain": "Canvas(toolbar=Toolbar(toolitems=[('Home', 'Reset original view', 'home', 'home'), ('Back', 'Back to previous …",
      "application/vnd.jupyter.widget-view+json": {
       "version_major": 2,
       "version_minor": 0,
       "model_id": "78eaee1757a44f8983b1c8e2b9281ece"
      }
     },
     "metadata": {}
    },
    {
     "output_type": "display_data",
     "data": {
      "text/plain": "Canvas(toolbar=Toolbar(toolitems=[('Home', 'Reset original view', 'home', 'home'), ('Back', 'Back to previous …",
      "application/vnd.jupyter.widget-view+json": {
       "version_major": 2,
       "version_minor": 0,
       "model_id": "2891ea9c02c24ce1ba6a1bdc72ffd93e"
      }
     },
     "metadata": {}
    },
    {
     "output_type": "display_data",
     "data": {
      "text/plain": "Canvas(toolbar=Toolbar(toolitems=[('Home', 'Reset original view', 'home', 'home'), ('Back', 'Back to previous …",
      "application/vnd.jupyter.widget-view+json": {
       "version_major": 2,
       "version_minor": 0,
       "model_id": "d30ce78efc1d4f0aab6fde48fe604be7"
      }
     },
     "metadata": {}
    }
   ],
   "source": [
    "# Threshold the image\n",
    "cell_img_thresh1 = cell_img.bin_threshold(120,255)\n",
    "cell_img_thresh1.im_show()\n",
    "cell_img_thresh1_inv = cell_img_thresh1.bin_invert()\n",
    "cell_img_thresh1_inv.im_show()\n",
    "\n",
    "kernel = np.zeros((31,31), np.uint8)\n",
    "kernel = cv2.circle(kernel, (15,15), 15, color=(1), thickness=2 )\n",
    "\n",
    "cell_img_eroded = cell_img_thresh1.bin_erode(kernel, 1)\n",
    "cell_img_eroded.im_show()\n",
    "# img2 = cell_img_thresh1_inv.image\n",
    "# img2[img2 > 0] = 1\n",
    "# cell_img_eroded = cv2.erode(img2, kernel, iterations=1)\n",
    "\n",
    "\n",
    "\n",
    "\n",
    "\n",
    "\n"
   ]
  },
  {
   "cell_type": "code",
   "execution_count": 5,
   "metadata": {
    "tags": []
   },
   "outputs": [
    {
     "output_type": "stream",
     "name": "stdout",
     "text": [
      "([650, 501], [650, 1441])\n"
     ]
    }
   ],
   "source": [
    "# Create algorithm for area detection\n",
    "img_array = cell_img_thresh1.image\n",
    "img_array = img_array   # Transpose to set x&y to image coords\n",
    "img_array[img_array > 0] = 1        # Set 255 values to 1's\n",
    "\n",
    "def get_length(img):\n",
    "    # Get Indices of gap lengths\n",
    "    indices = []\n",
    "    for x in range(img.shape[0]-1):\n",
    "        indices.append([])\n",
    "        y = 0\n",
    "        while (y < img.shape[1]-1):\n",
    "            if ((img[x,y]==0) and (img[x,y]==img[x,y+1])):\n",
    "                acc = 1; ind_start = [x,y]; ind_end = [x,y]\n",
    "                while ((y != img.shape[1]-1) and (img[x,y] == img[x,y+1])):\n",
    "                    acc += 1\n",
    "                    y   += 1\n",
    "                ind_end[1] += acc\n",
    "                y += 1\n",
    "                indices[x].append((ind_start, ind_end))\n",
    "            y += 1\n",
    "    # print(indices)\n",
    "\n",
    "    # Find the longest stretch of wound in each row\n",
    "    longest_arr = []\n",
    "    for i in range(len(indices)):\n",
    "        longest = None\n",
    "        for j in range(len(indices[i])):\n",
    "            if not longest:\n",
    "                longest = indices[i][j]\n",
    "            elif ( (indices[i][j][1][1]-indices[i][j][0][1]) > longest[1][1] - longest[0][1]):\n",
    "                longest = indices[i][j]\n",
    "            else:\n",
    "                continue\n",
    "        longest_arr.append(longest)\n",
    "    print(longest_arr[650])\n",
    "\n",
    "get_length(img_array)\n",
    "\n",
    "\n",
    "\n"
   ]
  },
  {
   "source": [
    "img = np.array([[1,1,0,0,0,1,1,0,0,0,0,0,0,1,1,1,0,0],\n",
    "                [1,0,0,0,1,1,1,0,0,0,0,0,1,1,1,1,0,0],\n",
    "                [1,1,1,0,0,0,1,1,1,1,1,1,1,1,1,1,0,0]])\n",
    "\n",
    "\n",
    "# Get Indices of gap lengths\n",
    "indices = []\n",
    "for x in range(img.shape[0]):\n",
    "    indices.append([])\n",
    "    y = 0\n",
    "    while (y < img.shape[1]):\n",
    "        # if (y != img.shape[1]-1):\n",
    "        if ((img[x,y]==0) and (img[x,y]==img[x,y+1])):\n",
    "            acc = 1; ind_start = [x,y]; ind_end = [x,y]\n",
    "            while ( (y != img.shape[1]-1) and (img[x,y] == img[x,y+1]) ):\n",
    "                acc += 1\n",
    "                y   += 1\n",
    "            ind_end[1] += acc\n",
    "            y += 1\n",
    "            indices[x].append((ind_start, ind_end))\n",
    "        y += 1\n",
    "print(indices)\n",
    "\n",
    "# Find the longest stretch of wound in each row\n",
    "longest_arr = []\n",
    "for i in range(len(indices)):\n",
    "    longest = None\n",
    "    for j in range(len(indices[i])):\n",
    "        if not longest:\n",
    "            longest = indices[i][j]\n",
    "        elif ( (indices[i][j][1][1]-indices[i][j][0][1]) > longest[1][1] - longest[0][1]):\n",
    "            longest = indices[i][j]\n",
    "        else:\n",
    "            continue\n",
    "    longest_arr.append(longest)\n",
    "print(longest_arr)\n",
    "\n",
    "\n",
    "\n"
   ],
   "cell_type": "code",
   "metadata": {},
   "execution_count": 6,
   "outputs": [
    {
     "output_type": "stream",
     "name": "stdout",
     "text": [
      "[[([0, 2], [0, 5]), ([0, 7], [0, 13]), ([0, 16], [0, 18])], [([1, 1], [1, 4]), ([1, 7], [1, 12]), ([1, 16], [1, 18])], [([2, 3], [2, 6]), ([2, 16], [2, 18])]]\n[([0, 7], [0, 13]), ([1, 7], [1, 12]), ([2, 3], [2, 6])]\n"
     ]
    }
   ]
  },
  {
   "cell_type": "code",
   "execution_count": 3,
   "metadata": {},
   "outputs": [
    {
     "output_type": "display_data",
     "data": {
      "text/plain": "Canvas(toolbar=Toolbar(toolitems=[('Home', 'Reset original view', 'home', 'home'), ('Back', 'Back to previous …",
      "application/vnd.jupyter.widget-view+json": {
       "version_major": 2,
       "version_minor": 0,
       "model_id": "bcfae93dbdab4862ab5379fe09dcd158"
      }
     },
     "metadata": {}
    },
    {
     "output_type": "display_data",
     "data": {
      "text/plain": "Canvas(toolbar=Toolbar(toolitems=[('Home', 'Reset original view', 'home', 'home'), ('Back', 'Back to previous …",
      "application/vnd.jupyter.widget-view+json": {
       "version_major": 2,
       "version_minor": 0,
       "model_id": "6d6ecc8aef82455b87d301d7fb3563cf"
      }
     },
     "metadata": {}
    }
   ],
   "source": [
    "# Kernel Testing\n",
    "kernel = np.zeros((5,5), np.uint8)\n",
    "kernel = cv2.circle(kernel, (2,2), 2, color=(1), thickness=1 )\n",
    "\n",
    "img = np.zeros((20,20), np.uint8)\n",
    "img[5,6] = 255\n",
    "img[7,9] = 255\n",
    "img[11,3] = 255\n",
    "\n",
    "img = image.Image(img, 'Small Test Image')\n",
    "\n",
    "img_invert = img.bin_invert()\n",
    "img_invert.im_show()\n",
    "img_morphed = img_invert.bin_erode(kernel,1)\n",
    "img_morphed.im_show()\n",
    "\n",
    "\n",
    "\n"
   ]
  }
 ]
}